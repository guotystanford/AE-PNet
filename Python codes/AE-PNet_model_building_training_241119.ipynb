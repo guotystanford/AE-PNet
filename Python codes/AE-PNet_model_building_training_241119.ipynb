{
 "cells": [
  {
   "cell_type": "markdown",
   "metadata": {},
   "source": [
    "##### This script presents the model building, training and deployment of AE-PNet\n",
    "##### It was developed using Python 3.10.6 Tensorflow 2.10.0 Keras: 2.10.0\n",
    "##### It was tested on Nov. 19,2024\n",
    "##### In this example, we trained the model using 1500 manually picked waveforms as training and validation data\n",
    "##### by Tianyang GUO @ Tiziana Vanorio lab, Stanford, 2024\n",
    "##### guoty@stanford.edu; guoty962464@gmail.com"
   ]
  },
  {
   "cell_type": "markdown",
   "metadata": {},
   "source": [
    "# Import libaraies"
   ]
  },
  {
   "cell_type": "code",
   "execution_count": 1,
   "metadata": {},
   "outputs": [],
   "source": [
    "from platform import python_version\n",
    "\n",
    "import numpy as np\n",
    "import pandas as pd\n",
    "from datetime import datetime\n",
    "\n",
    "import tensorflow as tf\n",
    "from tensorflow import keras\n",
    "from keras.models import Model\n",
    "from keras.layers import Input, BatchNormalization, ReLU, Dense, Flatten, Dropout, MaxPool1D, Lambda, MaxPool2D\n",
    "from keras.layers.convolutional import Conv1D, Conv1DTranspose, Conv2D, Conv2DTranspose\n",
    "\n",
    "import matplotlib.pyplot as plt\n",
    "from scipy.special import expit as sigmoid\n",
    "import os"
   ]
  },
  {
   "cell_type": "markdown",
   "metadata": {},
   "source": [
    "# Building and training AE-PNet"
   ]
  },
  {
   "cell_type": "code",
   "execution_count": 2,
   "metadata": {},
   "outputs": [
    {
     "name": "stdout",
     "output_type": "stream",
     "text": [
      "Python: 3.10.6 \n",
      "Tensorflow: 2.10.0 \n",
      "Keras: 2.10.0\n"
     ]
    }
   ],
   "source": [
    "print('Python:', python_version(), '\\nTensorflow:', tf.__version__, '\\nKeras:', keras.__version__)"
   ]
  },
  {
   "cell_type": "code",
   "execution_count": 3,
   "metadata": {},
   "outputs": [],
   "source": [
    "# Set random seed\n",
    "ranseed = 99\n",
    "np.random.seed(ranseed)\n",
    "tf.random.set_seed(ranseed)"
   ]
  },
  {
   "cell_type": "code",
   "execution_count": 4,
   "metadata": {},
   "outputs": [],
   "source": [
    "# utility for skip connections\n",
    "def crop_concat(net1, net2):\n",
    "    \"\"\"\n",
    "    the size(net1) <= size(net2)\n",
    "    \"\"\"\n",
    "    # Number of channels\n",
    "    chn1 = net1.get_shape().as_list()[-1]\n",
    "    chn2 = net2.get_shape().as_list()[-1]\n",
    "    # Shapes\n",
    "    net1_shape = tf.shape(net1)\n",
    "    net2_shape = tf.shape(net2)\n",
    "    # Offset for crop (0 for batch and channel)\n",
    "    offsets = [0, (net2_shape[1] - net1_shape[1]) // 2, 0]\n",
    "    # Size of crop \n",
    "    size = [-1, net1_shape[1], -1]\n",
    "    # Crop\n",
    "    net2_resize = tf.slice(net2, offsets, size)\n",
    "    # Concatenate\n",
    "    out = tf.concat([net1, net2_resize], 2)\n",
    "    out = tf.ensure_shape(out, [None, None, chn1 + chn2])\n",
    "    return out "
   ]
  },
  {
   "cell_type": "code",
   "execution_count": 9,
   "metadata": {},
   "outputs": [],
   "source": [
    "# model architecture - modified from PASENET (with 1 less hidden layer)\n",
    "def create_AEPNET():\n",
    "    # parameters\n",
    "    k_size = 3 \n",
    "    k_num1 = 8\n",
    "    k_num2 = 11\n",
    "    k_num3 = 16\n",
    "    k_num4 = 22\n",
    "\n",
    "    n_kernels = [k_num1, \n",
    "                 k_num1, k_num1, \n",
    "                 k_num2, k_num2, \n",
    "                 k_num3, k_num3, \n",
    "                 k_num4, \n",
    "                 k_num3, k_num3, \n",
    "                 k_num2, k_num2, \n",
    "                 k_num1, k_num1]\n",
    "    n_pick = 1 # just P-wave arrival\n",
    "    n_class = 2 #Two 'classes' P-wave arrival\n",
    "    s_size = 4\n",
    "    pad = 'same'\n",
    "    n_pts = 551\n",
    "\n",
    "    # input layer\n",
    "    visible = Input(shape=(n_pts, 1), name='Input')\n",
    "\n",
    "    # downward\n",
    "\n",
    "    # hidden layer 1\n",
    "    conv1 = Conv1D(n_kernels[0], kernel_size=k_size, padding=pad, name='Conv10')(visible)#(visible)\n",
    "    bn11 = BatchNormalization(name='BatchNorm11')(conv1)\n",
    "    r11 = ReLU()(bn11)\n",
    "    conv11 = Conv1D(n_kernels[1], kernel_size=k_size, padding=pad, name='Conv11')(r11)\n",
    "    bn12 = BatchNormalization(name='BatchNorm12')(conv11)\n",
    "    r12 = ReLU()(bn12)\n",
    "\n",
    "    # hidden layer 2\n",
    "    convs2 = Conv1D(n_kernels[2], kernel_size=k_size, strides=s_size, padding=pad, name='Convs20')(r12)\n",
    "    bn21 = BatchNormalization(name='BatchNorm21')(convs2)\n",
    "    r21 = ReLU()(bn21)\n",
    "    conv21 = Conv1D(n_kernels[3], kernel_size=k_size, padding=pad, name='Conv21')(r21)\n",
    "    bn22 = BatchNormalization(name='BatchNorm22')(conv21)\n",
    "    r22 = ReLU()(bn22)\n",
    "\n",
    "    # hidden layer 3\n",
    "    convs3 = Conv1D(n_kernels[4], kernel_size=k_size, strides=s_size, padding=pad, name='Convs30')(r22)\n",
    "    bn31 = BatchNormalization(name='BatchNorm31')(convs3)\n",
    "    r31 = ReLU()(bn31)\n",
    "    conv31 = Conv1D(n_kernels[5], kernel_size=k_size, padding=pad, name='Conv31')(r31)\n",
    "    bn32 = BatchNormalization(name='BatchNorm32')(conv31)\n",
    "    r32 = ReLU()(bn32)\n",
    "\n",
    "    # hidden layer 4\n",
    "    convs4 = Conv1D(n_kernels[6], kernel_size=k_size, strides=s_size, padding=pad, name='Convs40')(r32)\n",
    "    bn41 = BatchNormalization(name='BatchNorm41')(convs4)\n",
    "    r41 = ReLU()(bn41)\n",
    "    conv41 = Conv1D(n_kernels[7], kernel_size=k_size, padding=pad, name='Conv41')(r41)\n",
    "    bn42 = BatchNormalization(name='BatchNorm42')(conv41)\n",
    "    r42 = ReLU()(bn42)\n",
    "\n",
    "\n",
    "    # upward\n",
    "\n",
    "    # hidden layer 3 with skip connection\n",
    "    convsT3 = Conv1DTranspose(n_kernels[8], kernel_size=k_size, strides=s_size, padding=pad, name='ConvsT30')(r42)\n",
    "    bn33 = BatchNormalization(name='BatchNorm33')(convsT3)\n",
    "    r33 = ReLU()(bn33)\n",
    "    skip3 = crop_concat(bn32, r33)\n",
    "    conv32 = Conv1D(n_kernels[9], kernel_size=k_size, padding=pad, name='Conv32')(skip3)\n",
    "    bn34 = BatchNormalization(name='BatchNorm34')(conv32)\n",
    "    r34 = ReLU()(bn34)\n",
    "\n",
    "    # hidden layer 2\n",
    "    convsT2 = Conv1DTranspose(n_kernels[10], kernel_size=k_size, strides=s_size, padding=pad, name='ConvsT20')(r34)\n",
    "    bn23 = BatchNormalization(name='BatchNorm23')(convsT2)\n",
    "    r23 = ReLU()(bn23)\n",
    "    skip2 = crop_concat(bn22, r23)\n",
    "    conv22 = Conv1D(n_kernels[11], kernel_size=k_size, padding=pad, name='Conv22')(skip2)\n",
    "    bn24 = BatchNormalization(name='BatchNorm24')(conv22)\n",
    "    r24 = ReLU()(bn24)\n",
    "\n",
    "    # hidden layer 1\n",
    "    convsT1 = Conv1DTranspose(n_kernels[12], kernel_size=k_size, strides=s_size, padding=pad, name='ConvsT10')(r24)\n",
    "    bn13 = BatchNormalization(name='BatchNorm13')(convsT1)\n",
    "    r13 = ReLU()(bn13)\n",
    "    skip1 = crop_concat(bn12, r13)\n",
    "    conv12 = Conv1D(n_kernels[13], kernel_size=k_size, padding=pad, name='Conv12')(skip1)\n",
    "    bn14 = BatchNormalization(name='BatchNorm14')(conv12)\n",
    "    r14 = ReLU()(bn14)\n",
    "\n",
    "    # output with kernel = 1 and no activation\n",
    "    conv0 = Conv1D(n_pick, kernel_size=1, padding=pad, name='ConvLast')(r14)\n",
    "\n",
    "    # model\n",
    "    AEPNET = Model(inputs=visible, outputs=conv0, name='AEPNET-ish')\n",
    "    \n",
    "    return AEPNET"
   ]
  },
  {
   "cell_type": "code",
   "execution_count": null,
   "metadata": {},
   "outputs": [],
   "source": [
    "# learning rate and optimizer\n",
    "optim = keras.optimizers.Adam(learning_rate=0.001) # \n",
    "\n",
    "def AEPNET_loss(labels, logits):\n",
    "\n",
    "    # Add small constant to handle the log function in the loss function, namely avoiding NANs in entropy calculation using log [labels]\n",
    "    # it has already been added in the processing data but in case someone forgets I keep it here\n",
    "    labels += 1e-7\n",
    "    elementwise_loss = tf.nn.sigmoid_cross_entropy_with_logits(labels=labels, logits=logits)\n",
    "    # mean\n",
    "    loss = tf.reduce_mean(input_tensor=elementwise_loss)\n",
    "    return loss\n",
    "\n",
    "def AEPNET_res(labels, logits):\n",
    "    \"\"\"residual between truth and AEPNET prediction\"\"\"\n",
    "    # Label of manually picked P-wave arrival (ground truth)\n",
    "    Y = tf.argmax(labels) \n",
    "    # label predicted by model(prediction)\n",
    "    Yobs = tf.argmax(tf.nn.sigmoid(logits))\n",
    "    res = Yobs - Y\n",
    "    return res\n",
    "\n",
    "AEPNETlog = 'logs/AEPNET/' + datetime.now().strftime('%Y%m%d-%H%M%S')\n",
    "\n",
    "AEPNET_tb = keras.callbacks.TensorBoard(log_dir=AEPNETlog, \n",
    "                                          histogram_freq=1,\n",
    "                                          write_graph=False,\n",
    "                                          write_images=True,\n",
    "                                          update_freq='epoch')"
   ]
  },
  {
   "cell_type": "code",
   "execution_count": 11,
   "metadata": {},
   "outputs": [],
   "source": [
    "#Training parameters\n",
    "n_epochs = 10000 # We used a large epoch number here\n",
    "b_size = 64"
   ]
  },
  {
   "cell_type": "code",
   "execution_count": 15,
   "metadata": {},
   "outputs": [
    {
     "name": "stderr",
     "output_type": "stream",
     "text": [
      "WARNING:absl:Function `_wrapped_model` contains input name(s) Input with unsupported characters which will be renamed to input in the SavedModel.\n",
      "WARNING:absl:Found untraced functions such as _jit_compiled_convolution_op, _jit_compiled_convolution_op, _jit_compiled_convolution_op, _jit_compiled_convolution_op, _jit_compiled_convolution_op while saving (showing 5 of 15). These functions will not be directly callable after loading.\n"
     ]
    },
    {
     "name": "stdout",
     "output_type": "stream",
     "text": [
      "INFO:tensorflow:Assets written to: Trained_models/AEPNET_Aug_1500_train&valida_241119\\assets\n"
     ]
    },
    {
     "name": "stderr",
     "output_type": "stream",
     "text": [
      "INFO:tensorflow:Assets written to: Trained_models/AEPNET_Aug_1500_train&valida_241119\\assets\n"
     ]
    },
    {
     "name": "stdout",
     "output_type": "stream",
     "text": [
      "Total training and validation data number:1500\n",
      "Training data number:1200\n",
      "Validation data number:300\n"
     ]
    },
    {
     "data": {
      "image/png": "[encoded data removed]",
      "text/plain": [
       "<Figure size 432x288 with 1 Axes>"
      ]
     },
     "metadata": {
      "needs_background": "light"
     },
     "output_type": "display_data"
    }
   ],
   "source": [
    "# Model training\n",
    "# load training data\n",
    "l=1500 # number of training and validation data\n",
    "ftrain_Aug = np.load(f'Aug_1500_train.npz')\n",
    "# load validation data\n",
    "fval = np.load(f'1500_validation.npz')\n",
    "# Data transformation\n",
    "tr_Aug = tf.cast(ftrain_Aug['traindata'].T, dtype=tf.float32)\n",
    "trl_Aug = tf.cast(ftrain_Aug['trainlabels'].T, dtype=tf.float32)\n",
    "va = tf.cast(fval['validadata'].T, dtype=tf.float32)\n",
    "val = tf.cast(fval['validalabels'].T, dtype=tf.float32)\n",
    "# Creat model\n",
    "AEPNET = create_AEPNET()\n",
    "AEPNET.compile(optimizer=optim, loss=AEPNET_loss, metrics=AEPNET_res)\n",
    "AEPNET_callbacks = [\n",
    "    tf.keras.callbacks.EarlyStopping(min_delta=0.0001, patience=3),\n",
    "    AEPNET_tb]\n",
    "# Model training\n",
    "AEPNET_story = AEPNET.fit(x=tr_Aug, y=trl_Aug, \n",
    "                 batch_size=b_size, epochs=n_epochs, \n",
    "                 validation_data=(va, val), shuffle=True, callbacks=AEPNET_callbacks, verbose=0).history\n",
    "# Model saving\n",
    "AEPNET.save(f'Trained_models/AEPNET_Aug_{l:.0f}_train&valida_241119')\n",
    "\n",
    "# Visualizing model training process\n",
    "\n",
    "print(f'Total training and validation data number:{l:.0f}')\n",
    "print(f'Training data number:{l*0.8:.0f}')\n",
    "print(f'Validation data number:{l*0.2:.0f}')     \n",
    "plt.plot(AEPNET_story['loss'])\n",
    "plt.plot(AEPNET_story['val_loss'])\n",
    "plt.title('model loss')\n",
    "plt.ylabel('loss')\n",
    "plt.xlabel('epoch')\n",
    "plt.legend(['train', 'dev'], loc='upper left')\n",
    "plt.show()"
   ]
  },
  {
   "cell_type": "markdown",
   "metadata": {},
   "source": [
    "## Load and deploy AE-PNet"
   ]
  },
  {
   "cell_type": "code",
   "execution_count": 17,
   "metadata": {},
   "outputs": [],
   "source": [
    "## The path and model name can be cu\n",
    "# AEPNET = keras.models.load_model('Trained_models/AEPNET_Aug_1500_train&valida_241119', \n",
    "#                                            custom_objects={'AEPNET_res': 'AEPNET_res', 'AEPNET_loss': 'AEPNET_loss'})"
   ]
  },
  {
   "cell_type": "code",
   "execution_count": 18,
   "metadata": {},
   "outputs": [
    {
     "name": "stdout",
     "output_type": "stream",
     "text": [
      "313/313 [==============================] - 3s 7ms/step\n"
     ]
    }
   ],
   "source": [
    "ftest = np.load('10000_test.npz')\n",
    "#ftest_NoAug.files\n",
    "te = tf.cast(ftest['testdata'].T, dtype=tf.float32)\n",
    "# Deploy AE-PNet\n",
    "AEPNET_pred = AEPNET.predict(te)"
   ]
  },
  {
   "cell_type": "markdown",
   "metadata": {},
   "source": [
    "## Visualize prediction"
   ]
  },
  {
   "cell_type": "code",
   "execution_count": 19,
   "metadata": {},
   "outputs": [],
   "source": [
    "# Waveform to be picked by AE-PNet\n",
    "dfX_test = pd.DataFrame(ftest['testdata'])\n",
    "# Manually picked P-wave arrival\n",
    "dfy_test = pd.DataFrame(ftest['testlabels'])\n",
    "# P-wave arrival picked by AE-PNet\n",
    "df_AEPNET_pred = pd.DataFrame(AEPNET_pred[:,:,0].T)"
   ]
  },
  {
   "cell_type": "code",
   "execution_count": 20,
   "metadata": {},
   "outputs": [
    {
     "data": {
      "text/plain": [
       "(0.0, 0.5)"
      ]
     },
     "execution_count": 20,
     "metadata": {},
     "output_type": "execute_result"
    },
    {
     "data": {
      "image/png": "[encoded data removed]",
      "text/plain": [
       "<Figure size 864x432 with 2 Axes>"
      ]
     },
     "metadata": {
      "needs_background": "light"
     },
     "output_type": "display_data"
    }
   ],
   "source": [
    "import random\n",
    "N=dfX_test.shape[1]\n",
    "random_int=random.randint(0,N-1)\n",
    "hmm=random_int\n",
    "fig, ax = plt.subplots(figsize=(12, 6))\n",
    "ax.plot(dfX_test.iloc[:, hmm], 'b')\n",
    "ax.tick_params(axis='y', colors='b', which='both')\n",
    "ax2 = ax.twinx()\n",
    "ax2.plot(dfy_test.iloc[:, hmm], 'r--')\n",
    "ax2.plot(sigmoid(df_AEPNET_pred.iloc[:,hmm]), 'g')\n",
    "ax2.tick_params(axis='y', colors='r', which='both')\n",
    "ax2.set_ylim(0, 0.5)"
   ]
  }
 ],
 "metadata": {
  "kernelspec": {
   "display_name": "Python 3 (ipykernel)",
   "language": "python",
   "name": "python3"
  },
  "language_info": {
   "codemirror_mode": {
    "name": "ipython",
    "version": 3
   },
   "file_extension": ".py",
   "mimetype": "text/x-python",
   "name": "python",
   "nbconvert_exporter": "python",
   "pygments_lexer": "ipython3",
   "version": "3.10.6"
  }
 },
 "nbformat": 4,
 "nbformat_minor": 4
}
